{
 "cells": [
  {
   "cell_type": "markdown",
   "metadata": {},
   "source": [
    "## Supervised Learning Models - California Test Score Project\n",
    "\n",
    "Data: [the California Test Score Data Set](https://vincentarelbundock.github.io/Rdatasets/datasets.html)\n",
    "\n",
    "Goal: using different regression models to predict the test score.\n"
   ]
  },
  {
   "cell_type": "code",
   "execution_count": 1,
   "metadata": {},
   "outputs": [],
   "source": [
    "import pandas as pd\n",
    "import numpy as np\n",
    "from matplotlib import pyplot as plt\n",
    "%matplotlib inline"
   ]
  },
  {
   "cell_type": "code",
   "execution_count": 2,
   "metadata": {},
   "outputs": [],
   "source": [
    "df = pd.read_csv('Caschool.csv', index_col=0)"
   ]
  },
  {
   "cell_type": "code",
   "execution_count": 3,
   "metadata": {},
   "outputs": [
    {
     "data": {
      "text/html": [
       "<div>\n",
       "<style scoped>\n",
       "    .dataframe tbody tr th:only-of-type {\n",
       "        vertical-align: middle;\n",
       "    }\n",
       "\n",
       "    .dataframe tbody tr th {\n",
       "        vertical-align: top;\n",
       "    }\n",
       "\n",
       "    .dataframe thead th {\n",
       "        text-align: right;\n",
       "    }\n",
       "</style>\n",
       "<table border=\"1\" class=\"dataframe\">\n",
       "  <thead>\n",
       "    <tr style=\"text-align: right;\">\n",
       "      <th></th>\n",
       "      <th>distcod</th>\n",
       "      <th>county</th>\n",
       "      <th>district</th>\n",
       "      <th>grspan</th>\n",
       "      <th>enrltot</th>\n",
       "      <th>teachers</th>\n",
       "      <th>calwpct</th>\n",
       "      <th>mealpct</th>\n",
       "      <th>computer</th>\n",
       "      <th>testscr</th>\n",
       "      <th>compstu</th>\n",
       "      <th>expnstu</th>\n",
       "      <th>str</th>\n",
       "      <th>avginc</th>\n",
       "      <th>elpct</th>\n",
       "      <th>readscr</th>\n",
       "      <th>mathscr</th>\n",
       "    </tr>\n",
       "  </thead>\n",
       "  <tbody>\n",
       "    <tr>\n",
       "      <th>1</th>\n",
       "      <td>75119</td>\n",
       "      <td>Alameda</td>\n",
       "      <td>Sunol Glen Unified</td>\n",
       "      <td>KK-08</td>\n",
       "      <td>195</td>\n",
       "      <td>10.900000</td>\n",
       "      <td>0.510200</td>\n",
       "      <td>2.040800</td>\n",
       "      <td>67</td>\n",
       "      <td>690.799988</td>\n",
       "      <td>0.343590</td>\n",
       "      <td>6384.911133</td>\n",
       "      <td>17.889910</td>\n",
       "      <td>22.690001</td>\n",
       "      <td>0.000000</td>\n",
       "      <td>691.599976</td>\n",
       "      <td>690.000000</td>\n",
       "    </tr>\n",
       "    <tr>\n",
       "      <th>2</th>\n",
       "      <td>61499</td>\n",
       "      <td>Butte</td>\n",
       "      <td>Manzanita Elementary</td>\n",
       "      <td>KK-08</td>\n",
       "      <td>240</td>\n",
       "      <td>11.150000</td>\n",
       "      <td>15.416700</td>\n",
       "      <td>47.916698</td>\n",
       "      <td>101</td>\n",
       "      <td>661.200012</td>\n",
       "      <td>0.420833</td>\n",
       "      <td>5099.380859</td>\n",
       "      <td>21.524664</td>\n",
       "      <td>9.824000</td>\n",
       "      <td>4.583333</td>\n",
       "      <td>660.500000</td>\n",
       "      <td>661.900024</td>\n",
       "    </tr>\n",
       "    <tr>\n",
       "      <th>3</th>\n",
       "      <td>61549</td>\n",
       "      <td>Butte</td>\n",
       "      <td>Thermalito Union Elementary</td>\n",
       "      <td>KK-08</td>\n",
       "      <td>1550</td>\n",
       "      <td>82.900002</td>\n",
       "      <td>55.032299</td>\n",
       "      <td>76.322601</td>\n",
       "      <td>169</td>\n",
       "      <td>643.599976</td>\n",
       "      <td>0.109032</td>\n",
       "      <td>5501.954590</td>\n",
       "      <td>18.697226</td>\n",
       "      <td>8.978000</td>\n",
       "      <td>30.000002</td>\n",
       "      <td>636.299988</td>\n",
       "      <td>650.900024</td>\n",
       "    </tr>\n",
       "    <tr>\n",
       "      <th>4</th>\n",
       "      <td>61457</td>\n",
       "      <td>Butte</td>\n",
       "      <td>Golden Feather Union Elementary</td>\n",
       "      <td>KK-08</td>\n",
       "      <td>243</td>\n",
       "      <td>14.000000</td>\n",
       "      <td>36.475399</td>\n",
       "      <td>77.049202</td>\n",
       "      <td>85</td>\n",
       "      <td>647.700012</td>\n",
       "      <td>0.349794</td>\n",
       "      <td>7101.831055</td>\n",
       "      <td>17.357143</td>\n",
       "      <td>8.978000</td>\n",
       "      <td>0.000000</td>\n",
       "      <td>651.900024</td>\n",
       "      <td>643.500000</td>\n",
       "    </tr>\n",
       "    <tr>\n",
       "      <th>5</th>\n",
       "      <td>61523</td>\n",
       "      <td>Butte</td>\n",
       "      <td>Palermo Union Elementary</td>\n",
       "      <td>KK-08</td>\n",
       "      <td>1335</td>\n",
       "      <td>71.500000</td>\n",
       "      <td>33.108601</td>\n",
       "      <td>78.427002</td>\n",
       "      <td>171</td>\n",
       "      <td>640.849976</td>\n",
       "      <td>0.128090</td>\n",
       "      <td>5235.987793</td>\n",
       "      <td>18.671329</td>\n",
       "      <td>9.080333</td>\n",
       "      <td>13.857677</td>\n",
       "      <td>641.799988</td>\n",
       "      <td>639.900024</td>\n",
       "    </tr>\n",
       "  </tbody>\n",
       "</table>\n",
       "</div>"
      ],
      "text/plain": [
       "   distcod   county                         district grspan  enrltot  \\\n",
       "1    75119  Alameda               Sunol Glen Unified  KK-08      195   \n",
       "2    61499    Butte             Manzanita Elementary  KK-08      240   \n",
       "3    61549    Butte      Thermalito Union Elementary  KK-08     1550   \n",
       "4    61457    Butte  Golden Feather Union Elementary  KK-08      243   \n",
       "5    61523    Butte         Palermo Union Elementary  KK-08     1335   \n",
       "\n",
       "    teachers    calwpct    mealpct  computer     testscr   compstu  \\\n",
       "1  10.900000   0.510200   2.040800        67  690.799988  0.343590   \n",
       "2  11.150000  15.416700  47.916698       101  661.200012  0.420833   \n",
       "3  82.900002  55.032299  76.322601       169  643.599976  0.109032   \n",
       "4  14.000000  36.475399  77.049202        85  647.700012  0.349794   \n",
       "5  71.500000  33.108601  78.427002       171  640.849976  0.128090   \n",
       "\n",
       "       expnstu        str     avginc      elpct     readscr     mathscr  \n",
       "1  6384.911133  17.889910  22.690001   0.000000  691.599976  690.000000  \n",
       "2  5099.380859  21.524664   9.824000   4.583333  660.500000  661.900024  \n",
       "3  5501.954590  18.697226   8.978000  30.000002  636.299988  650.900024  \n",
       "4  7101.831055  17.357143   8.978000   0.000000  651.900024  643.500000  \n",
       "5  5235.987793  18.671329   9.080333  13.857677  641.799988  639.900024  "
      ]
     },
     "execution_count": 3,
     "metadata": {},
     "output_type": "execute_result"
    }
   ],
   "source": [
    "df.head()"
   ]
  },
  {
   "cell_type": "code",
   "execution_count": 4,
   "metadata": {},
   "outputs": [
    {
     "name": "stdout",
     "output_type": "stream",
     "text": [
      "<class 'pandas.core.frame.DataFrame'>\n",
      "Int64Index: 420 entries, 1 to 420\n",
      "Data columns (total 17 columns):\n",
      "distcod     420 non-null int64\n",
      "county      420 non-null object\n",
      "district    420 non-null object\n",
      "grspan      420 non-null object\n",
      "enrltot     420 non-null int64\n",
      "teachers    420 non-null float64\n",
      "calwpct     420 non-null float64\n",
      "mealpct     420 non-null float64\n",
      "computer    420 non-null int64\n",
      "testscr     420 non-null float64\n",
      "compstu     420 non-null float64\n",
      "expnstu     420 non-null float64\n",
      "str         420 non-null float64\n",
      "avginc      420 non-null float64\n",
      "elpct       420 non-null float64\n",
      "readscr     420 non-null float64\n",
      "mathscr     420 non-null float64\n",
      "dtypes: float64(11), int64(3), object(3)\n",
      "memory usage: 59.1+ KB\n"
     ]
    }
   ],
   "source": [
    "df.info()"
   ]
  },
  {
   "cell_type": "code",
   "execution_count": null,
   "metadata": {},
   "outputs": [],
   "source": []
  },
  {
   "cell_type": "code",
   "execution_count": 5,
   "metadata": {},
   "outputs": [
    {
     "data": {
      "text/plain": [
       "Text(0.5, 1.0, 'Average Test Score Distribustion')"
      ]
     },
     "execution_count": 5,
     "metadata": {},
     "output_type": "execute_result"
    },
    {
     "data": {
      "image/png": "[encoded data removed]",
      "text/plain": [
       "<Figure size 432x288 with 1 Axes>"
      ]
     },
     "metadata": {
      "needs_background": "light"
     },
     "output_type": "display_data"
    }
   ],
   "source": [
    "# Visualize the univariate distribution of the target feature and other explanatory variables\n",
    "\n",
    "# distribution of the target feature - testscr\n",
    "df['testscr'].plot.hist(bins=30)\n",
    "plt.title('Average Test Score Distribustion')"
   ]
  },
  {
   "cell_type": "code",
   "execution_count": 6,
   "metadata": {},
   "outputs": [
    {
     "data": {
      "text/plain": [
       "Text(0.5, 1.0, 'Percent Qualifying for Reduced-price Lunch Distribustion')"
      ]
     },
     "execution_count": 6,
     "metadata": {},
     "output_type": "execute_result"
    },
    {
     "data": {
      "image/png": "[encoded data removed]",
      "text/plain": [
       "<Figure size 432x288 with 1 Axes>"
      ]
     },
     "metadata": {
      "needs_background": "light"
     },
     "output_type": "display_data"
    }
   ],
   "source": [
    "# distribution of mealpct: percent qualifying for reduced-price lunch\n",
    "df['mealpct'].plot.hist(bins=30)\n",
    "plt.title('Percent Qualifying for Reduced-price Lunch Distribustion')"
   ]
  },
  {
   "cell_type": "code",
   "execution_count": 7,
   "metadata": {},
   "outputs": [
    {
     "data": {
      "text/plain": [
       "Text(0.5, 1.0, 'District Average Income Distribustion')"
      ]
     },
     "execution_count": 7,
     "metadata": {},
     "output_type": "execute_result"
    },
    {
     "data": {
      "image/png": "[encoded data removed]",
      "text/plain": [
       "<Figure size 432x288 with 1 Axes>"
      ]
     },
     "metadata": {
      "needs_background": "light"
     },
     "output_type": "display_data"
    }
   ],
   "source": [
    "# distribution of avginc: district average income\n",
    "df['avginc'].plot.hist(bins=30)\n",
    "plt.title('District Average Income Distribustion')"
   ]
  },
  {
   "cell_type": "code",
   "execution_count": 8,
   "metadata": {},
   "outputs": [
    {
     "data": {
      "text/plain": [
       "Text(0.5, 1.0, 'Percent of English Learners Distribustion')"
      ]
     },
     "execution_count": 8,
     "metadata": {},
     "output_type": "execute_result"
    },
    {
     "data": {
      "image/png": "[encoded data removed]",
      "text/plain": [
       "<Figure size 432x288 with 1 Axes>"
      ]
     },
     "metadata": {
      "needs_background": "light"
     },
     "output_type": "display_data"
    }
   ],
   "source": [
    "# distribution of elpct: percent of English learners\n",
    "df['elpct'].plot.hist(bins=30)\n",
    "plt.title('Percent of English Learners Distribustion')"
   ]
  },
  {
   "cell_type": "code",
   "execution_count": 9,
   "metadata": {},
   "outputs": [
    {
     "data": {
      "text/plain": [
       "<matplotlib.axes._subplots.AxesSubplot at 0x7fbe9032ef98>"
      ]
     },
     "execution_count": 9,
     "metadata": {},
     "output_type": "execute_result"
    },
    {
     "data": {
      "image/png": "[encoded data removed]",
      "text/plain": [
       "<Figure size 432x288 with 1 Axes>"
      ]
     },
     "metadata": {
      "needs_background": "light"
     },
     "output_type": "display_data"
    }
   ],
   "source": [
    "# Visualize the dependency of the target on each feature\n",
    "\n",
    "# percent qualifying for reduced-price lunch v.s. average test score\n",
    "df.plot.scatter(x='mealpct', y='testscr')"
   ]
  },
  {
   "cell_type": "code",
   "execution_count": 10,
   "metadata": {},
   "outputs": [
    {
     "data": {
      "text/plain": [
       "<matplotlib.axes._subplots.AxesSubplot at 0x7fbe903fd160>"
      ]
     },
     "execution_count": 10,
     "metadata": {},
     "output_type": "execute_result"
    },
    {
     "data": {
      "image/png": "[encoded data removed]",
      "text/plain": [
       "<Figure size 432x288 with 1 Axes>"
      ]
     },
     "metadata": {
      "needs_background": "light"
     },
     "output_type": "display_data"
    }
   ],
   "source": [
    "# district average income v.s. average test score\n",
    "df.plot.scatter(x='avginc', y='testscr')"
   ]
  },
  {
   "cell_type": "code",
   "execution_count": 11,
   "metadata": {},
   "outputs": [
    {
     "data": {
      "text/plain": [
       "<matplotlib.axes._subplots.AxesSubplot at 0x7fbe904c2a58>"
      ]
     },
     "execution_count": 11,
     "metadata": {},
     "output_type": "execute_result"
    },
    {
     "data": {
      "image/png": "[encoded data removed]",
      "text/plain": [
       "<Figure size 432x288 with 1 Axes>"
      ]
     },
     "metadata": {
      "needs_background": "light"
     },
     "output_type": "display_data"
    }
   ],
   "source": [
    "# percent of English learners v.s. average test score\n",
    "df.plot.scatter(x='elpct', y='testscr')"
   ]
  },
  {
   "cell_type": "code",
   "execution_count": null,
   "metadata": {},
   "outputs": [],
   "source": []
  },
  {
   "cell_type": "code",
   "execution_count": 12,
   "metadata": {},
   "outputs": [],
   "source": [
    "# Split data in training and test set.\n",
    "\n",
    "# Delete extra variable that is not continuous\n",
    "df.drop(['county', 'district', 'grspan'], axis=1, inplace=True)"
   ]
  },
  {
   "cell_type": "code",
   "execution_count": 13,
   "metadata": {},
   "outputs": [],
   "source": [
    "# train test split\n",
    "from sklearn.model_selection import train_test_split\n",
    "X = df.drop(['testscr', 'readscr', 'mathscr'], axis=1)\n",
    "y = df['testscr']\n",
    "X_train, X_test, y_train, y_test = train_test_split(X, y, random_state=42)"
   ]
  },
  {
   "cell_type": "code",
   "execution_count": null,
   "metadata": {},
   "outputs": [],
   "source": []
  },
  {
   "cell_type": "code",
   "execution_count": 14,
   "metadata": {},
   "outputs": [
    {
     "name": "stdout",
     "output_type": "stream",
     "text": [
      "accuracy: 0.22\n"
     ]
    }
   ],
   "source": [
    "# Build models that evaluate the relationship in the California test dataset and the target variable.\n",
    "\n",
    "# KNN Regression\n",
    "from sklearn.neighbors import KNeighborsRegressor\n",
    "\n",
    "knn = KNeighborsRegressor()\n",
    "knn.fit(X_train, y_train)\n",
    "\n",
    "#Print accuracy rounded to two digits to the right of decimal\n",
    "print(\"accuracy: {:.2f}\".format(knn.score(X_test, y_test)))\n",
    "\n",
    "knn_pred = knn.predict(X_test)"
   ]
  },
  {
   "cell_type": "code",
   "execution_count": 15,
   "metadata": {},
   "outputs": [
    {
     "name": "stdout",
     "output_type": "stream",
     "text": [
      "accuracy: 0.80\n"
     ]
    }
   ],
   "source": [
    "# Linear Regression (OLS)\n",
    "from sklearn.linear_model import LinearRegression\n",
    "lr = LinearRegression()\n",
    "lr.fit(X_train, y_train)\n",
    "\n",
    "#Print accuracy rounded to two digits to the right of decimal\n",
    "print(\"accuracy: {:.2f}\".format(lr.score(X_test, y_test)))\n",
    "\n",
    "lr_pred = lr.predict(X_test)"
   ]
  },
  {
   "cell_type": "code",
   "execution_count": 16,
   "metadata": {},
   "outputs": [
    {
     "name": "stdout",
     "output_type": "stream",
     "text": [
      "accuracy: 0.80\n"
     ]
    }
   ],
   "source": [
    "# Ridge Regression\n",
    "from sklearn.linear_model import Ridge\n",
    "ridge = Ridge()\n",
    "ridge.fit(X_train, y_train)\n",
    "\n",
    "#Print accuracy rounded to two digits to the right of decimal\n",
    "print(\"accuracy: {:.2f}\".format(ridge.score(X_test, y_test)))\n",
    "\n",
    "ridge_pred = ridge.predict(X_test)"
   ]
  },
  {
   "cell_type": "code",
   "execution_count": 17,
   "metadata": {},
   "outputs": [
    {
     "name": "stdout",
     "output_type": "stream",
     "text": [
      "accuracy: 0.80\n"
     ]
    },
    {
     "name": "stderr",
     "output_type": "stream",
     "text": [
      "/Users/fanyaweng/anaconda3/lib/python3.7/site-packages/sklearn/linear_model/coordinate_descent.py:475: ConvergenceWarning: Objective did not converge. You might want to increase the number of iterations. Duality gap: 60.53876346228208, tolerance: 10.135477633342425\n",
      "  positive)\n"
     ]
    }
   ],
   "source": [
    "# Lasso Regression\n",
    "from sklearn.linear_model import Lasso\n",
    "lasso = Lasso()\n",
    "lasso.fit(X_train, y_train)\n",
    "\n",
    "#Print accuracy rounded to two digits to the right of decimal\n",
    "print(\"accuracy: {:.2f}\".format(lasso.score(X_test, y_test)))\n",
    "\n",
    "lasso_pred = lasso.predict(X_test)"
   ]
  },
  {
   "cell_type": "code",
   "execution_count": null,
   "metadata": {},
   "outputs": [],
   "source": []
  },
  {
   "cell_type": "code",
   "execution_count": 18,
   "metadata": {},
   "outputs": [
    {
     "name": "stderr",
     "output_type": "stream",
     "text": [
      "/Users/fanyaweng/anaconda3/lib/python3.7/site-packages/sklearn/model_selection/_split.py:629: FutureWarning: The default value of n_split will change from 3 to 5 in version 0.22. Specify it explicitly to silence this warning.\n",
      "  warnings.warn(NSPLIT_WARNING, FutureWarning)\n",
      "/Users/fanyaweng/anaconda3/lib/python3.7/site-packages/sklearn/model_selection/_split.py:431: FutureWarning: The default value of n_split will change from 3 to 5 in version 0.22. Specify it explicitly to silence this warning.\n",
      "  warnings.warn(NSPLIT_WARNING, FutureWarning)\n"
     ]
    }
   ],
   "source": [
    "# Evaluate models using cross-validation.\n",
    "\n",
    "#import cross validation function from sk learn\n",
    "from sklearn.model_selection import cross_val_score\n",
    "from sklearn.model_selection import StratifiedKFold\n",
    "from sklearn.model_selection import KFold\n",
    "\n",
    "# Set up function parameters for diff't cross validation strategies\n",
    "skfold = StratifiedKFold()\n",
    "kfold = KFold()"
   ]
  },
  {
   "cell_type": "code",
   "execution_count": 19,
   "metadata": {},
   "outputs": [
    {
     "name": "stdout",
     "output_type": "stream",
     "text": [
      "cross-validation score: -0.14\n"
     ]
    }
   ],
   "source": [
    "# KNN for regression using cross-validation\n",
    "print(\"cross-validation score: {:.2f}\".format(np.mean(cross_val_score(KNeighborsRegressor(), X_train, y_train, cv=kfold))))"
   ]
  },
  {
   "cell_type": "code",
   "execution_count": 20,
   "metadata": {},
   "outputs": [
    {
     "name": "stdout",
     "output_type": "stream",
     "text": [
      "cross-validation score: 0.77\n"
     ]
    }
   ],
   "source": [
    "# Linear Regression (OLS) using cross-validation\n",
    "print(\"cross-validation score: {:.2f}\".format(np.mean(cross_val_score(LinearRegression(), X_train, y_train, cv=kfold))))"
   ]
  },
  {
   "cell_type": "code",
   "execution_count": 21,
   "metadata": {},
   "outputs": [
    {
     "name": "stdout",
     "output_type": "stream",
     "text": [
      "cross-validation score: 0.77\n"
     ]
    }
   ],
   "source": [
    "# Ridge Regression using cross-validation\n",
    "print(\"cross-validation score: {:.2f}\".format(np.mean(cross_val_score(Ridge(), X_train, y_train, cv=kfold))))"
   ]
  },
  {
   "cell_type": "code",
   "execution_count": 22,
   "metadata": {},
   "outputs": [
    {
     "name": "stdout",
     "output_type": "stream",
     "text": [
      "cross-validation score: 0.78\n"
     ]
    },
    {
     "name": "stderr",
     "output_type": "stream",
     "text": [
      "/Users/fanyaweng/anaconda3/lib/python3.7/site-packages/sklearn/linear_model/coordinate_descent.py:475: ConvergenceWarning: Objective did not converge. You might want to increase the number of iterations. Duality gap: 115.63531307454832, tolerance: 6.835283604888848\n",
      "  positive)\n",
      "/Users/fanyaweng/anaconda3/lib/python3.7/site-packages/sklearn/linear_model/coordinate_descent.py:475: ConvergenceWarning: Objective did not converge. You might want to increase the number of iterations. Duality gap: 3475.001547921963, tolerance: 6.7078127114330615\n",
      "  positive)\n"
     ]
    }
   ],
   "source": [
    "# Lasso Regression using cross-validation\n",
    "print(\"cross-validation score: {:.2f}\".format(np.mean(cross_val_score(Lasso(), X_train, y_train, cv=kfold))))"
   ]
  },
  {
   "cell_type": "code",
   "execution_count": null,
   "metadata": {},
   "outputs": [],
   "source": []
  },
  {
   "cell_type": "code",
   "execution_count": 23,
   "metadata": {},
   "outputs": [
    {
     "data": {
      "text/html": [
       "<div>\n",
       "<style scoped>\n",
       "    .dataframe tbody tr th:only-of-type {\n",
       "        vertical-align: middle;\n",
       "    }\n",
       "\n",
       "    .dataframe tbody tr th {\n",
       "        vertical-align: top;\n",
       "    }\n",
       "\n",
       "    .dataframe thead th {\n",
       "        text-align: right;\n",
       "    }\n",
       "</style>\n",
       "<table border=\"1\" class=\"dataframe\">\n",
       "  <thead>\n",
       "    <tr style=\"text-align: right;\">\n",
       "      <th></th>\n",
       "      <th>distcod</th>\n",
       "      <th>enrltot</th>\n",
       "      <th>teachers</th>\n",
       "      <th>calwpct</th>\n",
       "      <th>mealpct</th>\n",
       "      <th>computer</th>\n",
       "      <th>compstu</th>\n",
       "      <th>expnstu</th>\n",
       "      <th>str</th>\n",
       "      <th>avginc</th>\n",
       "      <th>elpct</th>\n",
       "    </tr>\n",
       "  </thead>\n",
       "  <tbody>\n",
       "    <tr>\n",
       "      <th>0</th>\n",
       "      <td>-1.699007</td>\n",
       "      <td>-0.599115</td>\n",
       "      <td>-0.600282</td>\n",
       "      <td>2.108420</td>\n",
       "      <td>1.226320</td>\n",
       "      <td>-0.490538</td>\n",
       "      <td>3.304648</td>\n",
       "      <td>2.903088</td>\n",
       "      <td>-1.282144</td>\n",
       "      <td>-0.895483</td>\n",
       "      <td>-0.876242</td>\n",
       "    </tr>\n",
       "    <tr>\n",
       "      <th>1</th>\n",
       "      <td>-0.769461</td>\n",
       "      <td>0.990644</td>\n",
       "      <td>0.845267</td>\n",
       "      <td>0.747233</td>\n",
       "      <td>1.892923</td>\n",
       "      <td>1.390596</td>\n",
       "      <td>0.054892</td>\n",
       "      <td>-0.403927</td>\n",
       "      <td>1.620545</td>\n",
       "      <td>-1.167449</td>\n",
       "      <td>3.495146</td>\n",
       "    </tr>\n",
       "    <tr>\n",
       "      <th>2</th>\n",
       "      <td>0.673452</td>\n",
       "      <td>-0.623547</td>\n",
       "      <td>-0.635742</td>\n",
       "      <td>-0.257150</td>\n",
       "      <td>-1.291636</td>\n",
       "      <td>-0.578683</td>\n",
       "      <td>2.721380</td>\n",
       "      <td>1.212299</td>\n",
       "      <td>0.372576</td>\n",
       "      <td>0.649412</td>\n",
       "      <td>-0.876242</td>\n",
       "    </tr>\n",
       "    <tr>\n",
       "      <th>3</th>\n",
       "      <td>1.359464</td>\n",
       "      <td>-0.484141</td>\n",
       "      <td>-0.484650</td>\n",
       "      <td>1.162828</td>\n",
       "      <td>1.453531</td>\n",
       "      <td>-0.576533</td>\n",
       "      <td>-1.139764</td>\n",
       "      <td>-1.007993</td>\n",
       "      <td>-0.131125</td>\n",
       "      <td>-0.992673</td>\n",
       "      <td>1.220132</td>\n",
       "    </tr>\n",
       "    <tr>\n",
       "      <th>4</th>\n",
       "      <td>0.328731</td>\n",
       "      <td>-0.583785</td>\n",
       "      <td>-0.591030</td>\n",
       "      <td>-0.663400</td>\n",
       "      <td>-0.573332</td>\n",
       "      <td>-0.595882</td>\n",
       "      <td>-0.289328</td>\n",
       "      <td>-0.966324</td>\n",
       "      <td>-0.189911</td>\n",
       "      <td>-0.116848</td>\n",
       "      <td>-0.450952</td>\n",
       "    </tr>\n",
       "  </tbody>\n",
       "</table>\n",
       "</div>"
      ],
      "text/plain": [
       "    distcod   enrltot  teachers   calwpct   mealpct  computer   compstu  \\\n",
       "0 -1.699007 -0.599115 -0.600282  2.108420  1.226320 -0.490538  3.304648   \n",
       "1 -0.769461  0.990644  0.845267  0.747233  1.892923  1.390596  0.054892   \n",
       "2  0.673452 -0.623547 -0.635742 -0.257150 -1.291636 -0.578683  2.721380   \n",
       "3  1.359464 -0.484141 -0.484650  1.162828  1.453531 -0.576533 -1.139764   \n",
       "4  0.328731 -0.583785 -0.591030 -0.663400 -0.573332 -0.595882 -0.289328   \n",
       "\n",
       "    expnstu       str    avginc     elpct  \n",
       "0  2.903088 -1.282144 -0.895483 -0.876242  \n",
       "1 -0.403927  1.620545 -1.167449  3.495146  \n",
       "2  1.212299  0.372576  0.649412 -0.876242  \n",
       "3 -1.007993 -0.131125 -0.992673  1.220132  \n",
       "4 -0.966324 -0.189911 -0.116848 -0.450952  "
      ]
     },
     "execution_count": 23,
     "metadata": {},
     "output_type": "execute_result"
    }
   ],
   "source": [
    "# Scaling the data.\n",
    "from sklearn.preprocessing import StandardScaler\n",
    "scaler = StandardScaler()\n",
    "scaler.fit(X_train)\n",
    "\n",
    "X_train_scaled = scaler.transform(X_train)\n",
    "X_test_scaled = scaler.transform(X_test)\n",
    "\n",
    "df_feature = pd.DataFrame(X_train_scaled, columns=['distcod', 'enrltot', 'teachers', 'calwpct', 'mealpct',\n",
    "                                                   'computer', 'compstu', 'expnstu', 'str', 'avginc', 'elpct'])\n",
    "df_feature.head()"
   ]
  },
  {
   "cell_type": "code",
   "execution_count": 24,
   "metadata": {},
   "outputs": [
    {
     "name": "stdout",
     "output_type": "stream",
     "text": [
      "accuracy: 0.75\n"
     ]
    }
   ],
   "source": [
    "# KNN Regression with scaled data\n",
    "knn = KNeighborsRegressor()\n",
    "knn.fit(X_train_scaled, y_train)\n",
    "print(\"accuracy: {:.2f}\".format(knn.score(X_test_scaled, y_test)))\n",
    "\n",
    "# Compare to the score of non-scaled data 0.22, scaling helps a lot."
   ]
  },
  {
   "cell_type": "code",
   "execution_count": 25,
   "metadata": {},
   "outputs": [
    {
     "name": "stdout",
     "output_type": "stream",
     "text": [
      "accuracy: 0.80\n"
     ]
    }
   ],
   "source": [
    "# Linear Regression (OLS) with scaled data\n",
    "lr = LinearRegression()\n",
    "lr.fit(X_train_scaled, y_train)\n",
    "print(\"accuracy: {:.2f}\".format(lr.score(X_test_scaled, y_test)))\n",
    "\n",
    "# Compare to the score of non-scaled data 0.80, scaling does not help."
   ]
  },
  {
   "cell_type": "code",
   "execution_count": 26,
   "metadata": {},
   "outputs": [
    {
     "name": "stdout",
     "output_type": "stream",
     "text": [
      "accuracy: 0.80\n"
     ]
    }
   ],
   "source": [
    "# Ridge Regression with scaled data\n",
    "ridge = Ridge()\n",
    "ridge.fit(X_train_scaled, y_train)\n",
    "print(\"accuracy: {:.2f}\".format(ridge.score(X_test_scaled, y_test)))\n",
    "\n",
    "# Compare to the score of non-scaled data 0.80, scaling does not help."
   ]
  },
  {
   "cell_type": "code",
   "execution_count": 27,
   "metadata": {},
   "outputs": [
    {
     "name": "stdout",
     "output_type": "stream",
     "text": [
      "accuracy: 0.79\n"
     ]
    }
   ],
   "source": [
    "# Lasso Regression with scaled data\n",
    "lasso = Lasso()\n",
    "lasso.fit(X_train_scaled, y_train)\n",
    "print(\"accuracy: {:.2f}\".format(lasso.score(X_test_scaled, y_test)))\n",
    "\n",
    "# Compare to the score of non-scaled data 0.80, scaling does not help at all."
   ]
  },
  {
   "cell_type": "code",
   "execution_count": null,
   "metadata": {},
   "outputs": [],
   "source": []
  },
  {
   "cell_type": "code",
   "execution_count": 28,
   "metadata": {},
   "outputs": [],
   "source": [
    "# Tune the parameters of the models using GridSearchCV. \n",
    "\n",
    "from sklearn.model_selection import GridSearchCV"
   ]
  },
  {
   "cell_type": "code",
   "execution_count": 29,
   "metadata": {},
   "outputs": [
    {
     "name": "stdout",
     "output_type": "stream",
     "text": [
      "best mean cross-validation score: 0.69\n",
      "best parameters: {'n_neighbors': 9}\n",
      "test-set score: 0.74\n"
     ]
    },
    {
     "name": "stderr",
     "output_type": "stream",
     "text": [
      "/Users/fanyaweng/anaconda3/lib/python3.7/site-packages/sklearn/model_selection/_split.py:1978: FutureWarning: The default value of cv will change from 3 to 5 in version 0.22. Specify it explicitly to silence this warning.\n",
      "  warnings.warn(CV_WARNING, FutureWarning)\n"
     ]
    }
   ],
   "source": [
    "# Tuning parameters for KNN Model\n",
    "knn_params = {'n_neighbors': np.arange(1, 15, 2)}\n",
    "knn_grid = GridSearchCV(KNeighborsRegressor(), param_grid=knn_params) \n",
    "\n",
    "#use meta model methods to fit score and predict model:\n",
    "knn_grid.fit(X_train_scaled, y_train)\n",
    "\n",
    "#extract best score and parameter by calling objects \"best_score_\" and \"best_params_\"\n",
    "print(\"best mean cross-validation score: {:.2f}\".format(knn_grid.best_score_))\n",
    "print(\"best parameters: {}\".format(knn_grid.best_params_))\n",
    "print(\"test-set score: {:.2f}\".format(knn_grid.score(X_test_scaled, y_test)))\n",
    "\n",
    "# Compared to 0.75 of KNN model with scaled data, gridsearch does not improve the result."
   ]
  },
  {
   "cell_type": "code",
   "execution_count": 30,
   "metadata": {},
   "outputs": [
    {
     "name": "stderr",
     "output_type": "stream",
     "text": [
      "/Users/fanyaweng/anaconda3/lib/python3.7/site-packages/sklearn/model_selection/_split.py:1978: FutureWarning: The default value of cv will change from 3 to 5 in version 0.22. Specify it explicitly to silence this warning.\n",
      "  warnings.warn(CV_WARNING, FutureWarning)\n"
     ]
    },
    {
     "name": "stdout",
     "output_type": "stream",
     "text": [
      "best mean cross-validation score: 0.77\n",
      "best parameters: {'copy_X': True, 'fit_intercept': True, 'n_jobs': 1, 'normalize': False}\n",
      "test-set score: 0.80\n"
     ]
    }
   ],
   "source": [
    "# Tuning parameters for Linear Regression Model\n",
    "ln_params = {'fit_intercept':[True,False], 'normalize':[True,False], 'copy_X':[True,False], 'n_jobs': [1, 5, 10, 50, 100, 500]} \n",
    "ln_grid = GridSearchCV(LinearRegression(), param_grid=ln_params)\n",
    "ln_grid.fit(X_train, y_train)\n",
    "# extract best score and parameter by calling objects \"best_score_\" and \"best_params_\"\n",
    "print(\"best mean cross-validation score: {:.2f}\".format(ln_grid.best_score_))\n",
    "print(\"best parameters: {}\".format(ln_grid.best_params_))\n",
    "print(\"test-set score: {:.2f}\".format(ln_grid.score(X_test, y_test)))\n",
    "\n",
    "# Compare to 0.80, gridsearch does not improve the result."
   ]
  },
  {
   "cell_type": "code",
   "execution_count": 31,
   "metadata": {},
   "outputs": [
    {
     "name": "stderr",
     "output_type": "stream",
     "text": [
      "/Users/fanyaweng/anaconda3/lib/python3.7/site-packages/sklearn/model_selection/_split.py:1978: FutureWarning: The default value of cv will change from 3 to 5 in version 0.22. Specify it explicitly to silence this warning.\n",
      "  warnings.warn(CV_WARNING, FutureWarning)\n"
     ]
    },
    {
     "name": "stdout",
     "output_type": "stream",
     "text": [
      "best mean cross-validation score: 0.78\n",
      "best parameters: {'alpha': 1000, 'tol': 1}\n",
      "test-set score: 0.80\n"
     ]
    }
   ],
   "source": [
    "# Tuning parameters for Ridge Regression Model\n",
    "ridge_params = {'alpha':[1, 10, 100, 500, 1000, 5000], 'tol': [1, 0.1, 0.01, 0.001, 0.0001]}\n",
    "ridge_grid = GridSearchCV(Ridge(), param_grid=ridge_params)\n",
    "ridge_grid.fit(X_train, y_train)\n",
    "# extract best score and parameter by calling objects \"best_score_\" and \"best_params_\"\n",
    "print(\"best mean cross-validation score: {:.2f}\".format(ridge_grid.best_score_))\n",
    "print(\"best parameters: {}\".format(ridge_grid.best_params_))\n",
    "print(\"test-set score: {:.2f}\".format(ridge_grid.score(X_test, y_test)))\n",
    "\n",
    "# Compare to 0.80, gridsearch does not improve the result."
   ]
  },
  {
   "cell_type": "code",
   "execution_count": 32,
   "metadata": {},
   "outputs": [
    {
     "name": "stderr",
     "output_type": "stream",
     "text": [
      "/Users/fanyaweng/anaconda3/lib/python3.7/site-packages/sklearn/model_selection/_split.py:1978: FutureWarning: The default value of cv will change from 3 to 5 in version 0.22. Specify it explicitly to silence this warning.\n",
      "  warnings.warn(CV_WARNING, FutureWarning)\n"
     ]
    },
    {
     "name": "stdout",
     "output_type": "stream",
     "text": [
      "best mean cross-validation score: 0.77\n",
      "best parameters: {'alpha': 0.05, 'max_iter': 1000}\n",
      "test-set score: 0.79\n"
     ]
    }
   ],
   "source": [
    "# Tuning parameters for Lasso Regression Model\n",
    "lasso_params = {'alpha':[0.005, 0.02, 0.03, 0.05, 0.1, 1, 10], 'max_iter': [1000, 2000, 5000, 10000]}\n",
    "lasso_grid = GridSearchCV(Lasso(tol=1), param_grid=lasso_params) # set tol=1 to silence warnings\n",
    "lasso_grid.fit(X_train, y_train)\n",
    "# extract best score and parameter by calling objects \"best_score_\" and \"best_params_\"\n",
    "print(\"best mean cross-validation score: {:.2f}\".format(lasso_grid.best_score_))\n",
    "print(\"best parameters: {}\".format(lasso_grid.best_params_))\n",
    "print(\"test-set score: {:.2f}\".format(lasso_grid.score(X_test, y_test)))\n",
    "\n",
    "# Compare to 0.80, gridsearch does not help."
   ]
  },
  {
   "cell_type": "code",
   "execution_count": null,
   "metadata": {},
   "outputs": [],
   "source": []
  },
  {
   "cell_type": "code",
   "execution_count": 33,
   "metadata": {},
   "outputs": [
    {
     "data": {
      "text/html": [
       "<div>\n",
       "<style scoped>\n",
       "    .dataframe tbody tr th:only-of-type {\n",
       "        vertical-align: middle;\n",
       "    }\n",
       "\n",
       "    .dataframe tbody tr th {\n",
       "        vertical-align: top;\n",
       "    }\n",
       "\n",
       "    .dataframe thead th {\n",
       "        text-align: right;\n",
       "    }\n",
       "</style>\n",
       "<table border=\"1\" class=\"dataframe\">\n",
       "  <thead>\n",
       "    <tr style=\"text-align: right;\">\n",
       "      <th></th>\n",
       "      <th>Coefficient</th>\n",
       "    </tr>\n",
       "  </thead>\n",
       "  <tbody>\n",
       "    <tr>\n",
       "      <th>distcod</th>\n",
       "      <td>-0.595212</td>\n",
       "    </tr>\n",
       "    <tr>\n",
       "      <th>enrltot</th>\n",
       "      <td>0.046076</td>\n",
       "    </tr>\n",
       "    <tr>\n",
       "      <th>teachers</th>\n",
       "      <td>-1.000880</td>\n",
       "    </tr>\n",
       "    <tr>\n",
       "      <th>calwpct</th>\n",
       "      <td>-1.387450</td>\n",
       "    </tr>\n",
       "    <tr>\n",
       "      <th>mealpct</th>\n",
       "      <td>-9.590066</td>\n",
       "    </tr>\n",
       "    <tr>\n",
       "      <th>computer</th>\n",
       "      <td>1.035029</td>\n",
       "    </tr>\n",
       "    <tr>\n",
       "      <th>compstu</th>\n",
       "      <td>-0.123832</td>\n",
       "    </tr>\n",
       "    <tr>\n",
       "      <th>expnstu</th>\n",
       "      <td>1.191139</td>\n",
       "    </tr>\n",
       "    <tr>\n",
       "      <th>str</th>\n",
       "      <td>-0.669891</td>\n",
       "    </tr>\n",
       "    <tr>\n",
       "      <th>avginc</th>\n",
       "      <td>3.756291</td>\n",
       "    </tr>\n",
       "    <tr>\n",
       "      <th>elpct</th>\n",
       "      <td>-3.505554</td>\n",
       "    </tr>\n",
       "  </tbody>\n",
       "</table>\n",
       "</div>"
      ],
      "text/plain": [
       "          Coefficient\n",
       "distcod     -0.595212\n",
       "enrltot      0.046076\n",
       "teachers    -1.000880\n",
       "calwpct     -1.387450\n",
       "mealpct     -9.590066\n",
       "computer     1.035029\n",
       "compstu     -0.123832\n",
       "expnstu      1.191139\n",
       "str         -0.669891\n",
       "avginc       3.756291\n",
       "elpct       -3.505554"
      ]
     },
     "execution_count": 33,
     "metadata": {},
     "output_type": "execute_result"
    }
   ],
   "source": [
    "# Compare the coefficients of the two best linear models\n",
    "\n",
    "# the coefficients of Ridge model\n",
    "coeff_df = pd.DataFrame(ridge.coef_, index=X.columns, columns=['Coefficient'])  \n",
    "coeff_df\n",
    "# The Ridge model's top three most important features are: mealpct, avginc, elpct"
   ]
  },
  {
   "cell_type": "code",
   "execution_count": 34,
   "metadata": {},
   "outputs": [
    {
     "data": {
      "text/html": [
       "<div>\n",
       "<style scoped>\n",
       "    .dataframe tbody tr th:only-of-type {\n",
       "        vertical-align: middle;\n",
       "    }\n",
       "\n",
       "    .dataframe tbody tr th {\n",
       "        vertical-align: top;\n",
       "    }\n",
       "\n",
       "    .dataframe thead th {\n",
       "        text-align: right;\n",
       "    }\n",
       "</style>\n",
       "<table border=\"1\" class=\"dataframe\">\n",
       "  <thead>\n",
       "    <tr style=\"text-align: right;\">\n",
       "      <th></th>\n",
       "      <th>Coefficient</th>\n",
       "    </tr>\n",
       "  </thead>\n",
       "  <tbody>\n",
       "    <tr>\n",
       "      <th>distcod</th>\n",
       "      <td>-0.000000</td>\n",
       "    </tr>\n",
       "    <tr>\n",
       "      <th>enrltot</th>\n",
       "      <td>-0.000000</td>\n",
       "    </tr>\n",
       "    <tr>\n",
       "      <th>teachers</th>\n",
       "      <td>-0.000000</td>\n",
       "    </tr>\n",
       "    <tr>\n",
       "      <th>calwpct</th>\n",
       "      <td>-0.000000</td>\n",
       "    </tr>\n",
       "    <tr>\n",
       "      <th>mealpct</th>\n",
       "      <td>-10.639949</td>\n",
       "    </tr>\n",
       "    <tr>\n",
       "      <th>computer</th>\n",
       "      <td>-0.000000</td>\n",
       "    </tr>\n",
       "    <tr>\n",
       "      <th>compstu</th>\n",
       "      <td>0.000000</td>\n",
       "    </tr>\n",
       "    <tr>\n",
       "      <th>expnstu</th>\n",
       "      <td>0.458522</td>\n",
       "    </tr>\n",
       "    <tr>\n",
       "      <th>str</th>\n",
       "      <td>-0.227043</td>\n",
       "    </tr>\n",
       "    <tr>\n",
       "      <th>avginc</th>\n",
       "      <td>3.323638</td>\n",
       "    </tr>\n",
       "    <tr>\n",
       "      <th>elpct</th>\n",
       "      <td>-2.556807</td>\n",
       "    </tr>\n",
       "  </tbody>\n",
       "</table>\n",
       "</div>"
      ],
      "text/plain": [
       "          Coefficient\n",
       "distcod     -0.000000\n",
       "enrltot     -0.000000\n",
       "teachers    -0.000000\n",
       "calwpct     -0.000000\n",
       "mealpct    -10.639949\n",
       "computer    -0.000000\n",
       "compstu      0.000000\n",
       "expnstu      0.458522\n",
       "str         -0.227043\n",
       "avginc       3.323638\n",
       "elpct       -2.556807"
      ]
     },
     "execution_count": 34,
     "metadata": {},
     "output_type": "execute_result"
    }
   ],
   "source": [
    "# the coefficients of Lasso model\n",
    "coeff_df = pd.DataFrame(lasso.coef_, index=X.columns, columns=['Coefficient'])  \n",
    "coeff_df\n",
    "# The Lasso model's top three most important features are: mealpct, avginc, elpct\n",
    "\n",
    "# The Ridge and Lasso models agree on the top three most important features"
   ]
  },
  {
   "cell_type": "code",
   "execution_count": 35,
   "metadata": {},
   "outputs": [],
   "source": [
    "# The selected features from Both Ridge and Lasso models agree with my inial selection of features \n",
    "# that shows a high relationship with the target value regarding the visualization result.\n",
    "# While the Lasso method overcomes the disadvantage of Ridge regression by not only punishing high \n",
    "# values of the coefficients β but actually setting them to zero if they are not relevant.\n",
    "# Therefore, I would choose Lasso model to predict new data."
   ]
  },
  {
   "cell_type": "code",
   "execution_count": null,
   "metadata": {},
   "outputs": [],
   "source": []
  }
 ],
 "metadata": {
  "kernelspec": {
   "display_name": "Python 3",
   "language": "python",
   "name": "python3"
  },
  "language_info": {
   "codemirror_mode": {
    "name": "ipython",
    "version": 3
   },
   "file_extension": ".py",
   "mimetype": "text/x-python",
   "name": "python",
   "nbconvert_exporter": "python",
   "pygments_lexer": "ipython3",
   "version": "3.7.3"
  }
 },
 "nbformat": 4,
 "nbformat_minor": 2
}
